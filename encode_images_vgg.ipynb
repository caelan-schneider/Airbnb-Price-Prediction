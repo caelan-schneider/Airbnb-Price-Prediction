{
 "cells": [
  {
   "cell_type": "code",
   "execution_count": 1,
   "id": "boring-updating",
   "metadata": {},
   "outputs": [
    {
     "name": "stderr",
     "output_type": "stream",
     "text": [
      "Using cache found in C:\\Users\\cpsch/.cache\\torch\\hub\\pytorch_vision_v0.6.0\n"
     ]
    }
   ],
   "source": [
    "import torch\n",
    "import pandas as pd\n",
    "import torch.nn as nn\n",
    "import numpy as np\n",
    "model = torch.hub.load('pytorch/vision:v0.6.0', 'vgg11', pretrained=True)\n",
    "model.eval()\n",
    "new_classifier = torch.nn.Sequential(*list(model.classifier.children())[:-1])\n",
    "model.classifier = new_classifier"
   ]
  },
  {
   "cell_type": "code",
   "execution_count": 2,
   "id": "dietary-soviet",
   "metadata": {},
   "outputs": [
    {
     "data": {
      "text/plain": [
       "(92893, 1)"
      ]
     },
     "execution_count": 2,
     "metadata": {},
     "output_type": "execute_result"
    }
   ],
   "source": [
    "data = pd.read_csv(\"picture_urls.csv\")\n",
    "data.shape"
   ]
  },
  {
   "cell_type": "code",
   "execution_count": 3,
   "id": "wicked-stretch",
   "metadata": {},
   "outputs": [],
   "source": [
    "from PIL import Image\n",
    "from torchvision import transforms\n",
    "\n",
    "def image_to_vector(url):\n",
    "    \n",
    "    filename = \"images/\" + url.split(\"/\")[-1]\n",
    "    try:\n",
    "        input_image = Image.open(filename)\n",
    "        preprocess_images = transforms.Compose([\n",
    "            transforms.ToTensor(),\n",
    "            transforms.Normalize(mean=[0.485, 0.456, 0.406], std=[0.229, 0.224, 0.225]),\n",
    "        ])\n",
    "        input_tensor = preprocess_images(input_image)\n",
    "        input_batch = input_tensor.unsqueeze(0) # create a mini-batch as expected by the model\n",
    "\n",
    "        # move the input and model to GPU for speed if available\n",
    "        if torch.cuda.is_available():\n",
    "            input_batch = input_batch.to('cuda')\n",
    "            model.to('cuda')\n",
    "\n",
    "        with torch.no_grad():\n",
    "            output = model(input_batch)\n",
    "        return output\n",
    "    except:\n",
    "        return torch.zeros(4096)\n"
   ]
  },
  {
   "cell_type": "code",
   "execution_count": 5,
   "id": "least-cheat",
   "metadata": {},
   "outputs": [],
   "source": [
    "data[\"image_tensor\"] = data[\"picture_url\"].apply(lambda k: image_to_vector(k))"
   ]
  },
  {
   "cell_type": "code",
   "execution_count": 6,
   "id": "greatest-order",
   "metadata": {},
   "outputs": [
    {
     "data": {
      "text/plain": [
       "0        [[tensor(0.), tensor(0.), tensor(0.), tensor(0...\n",
       "1        [[tensor(0.), tensor(0.), tensor(0.), tensor(0...\n",
       "2        [[tensor(0.), tensor(0.), tensor(0.), tensor(0...\n",
       "3        [[tensor(0.), tensor(0.), tensor(0.), tensor(0...\n",
       "4        [[tensor(1.7615), tensor(0.), tensor(0.), tens...\n",
       "                               ...                        \n",
       "92888    [[tensor(0.), tensor(0.), tensor(0.), tensor(0...\n",
       "92889    [[tensor(0.), tensor(0.), tensor(0.), tensor(0...\n",
       "92890    [[tensor(0.), tensor(0.), tensor(0.), tensor(0...\n",
       "92891    [[tensor(0.), tensor(0.), tensor(0.), tensor(0...\n",
       "92892    [[tensor(0.), tensor(0.8798), tensor(0.), tens...\n",
       "Name: image_tensor, Length: 92893, dtype: object"
      ]
     },
     "execution_count": 6,
     "metadata": {},
     "output_type": "execute_result"
    }
   ],
   "source": [
    "data.image_tensor"
   ]
  },
  {
   "cell_type": "code",
   "execution_count": 7,
   "id": "racial-arabic",
   "metadata": {},
   "outputs": [],
   "source": [
    "image_data = torch.vstack(tuple(data.image_tensor))"
   ]
  },
  {
   "cell_type": "code",
   "execution_count": 14,
   "id": "suitable-terrorism",
   "metadata": {},
   "outputs": [],
   "source": [
    "torch.save(image_data, \"image_tensor.pt\")"
   ]
  },
  {
   "cell_type": "code",
   "execution_count": null,
   "id": "competitive-daisy",
   "metadata": {},
   "outputs": [],
   "source": []
  }
 ],
 "metadata": {
  "kernelspec": {
   "display_name": "Python 3",
   "language": "python",
   "name": "python3"
  },
  "language_info": {
   "codemirror_mode": {
    "name": "ipython",
    "version": 3
   },
   "file_extension": ".py",
   "mimetype": "text/x-python",
   "name": "python",
   "nbconvert_exporter": "python",
   "pygments_lexer": "ipython3",
   "version": "3.8.6"
  }
 },
 "nbformat": 4,
 "nbformat_minor": 5
}
